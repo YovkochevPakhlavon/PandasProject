{
 "cells": [
  {
   "cell_type": "markdown",
   "id": "7754cd50",
   "metadata": {},
   "source": [
    "# Loading Data"
   ]
  },
  {
   "cell_type": "code",
   "execution_count": 2,
   "id": "95b2582b",
   "metadata": {},
   "outputs": [],
   "source": [
    "##required packages:\n",
    "import pandas as pd\n",
    "import openpyxl # for .xlsx files\n",
    "import json\n",
    "import uuid"
   ]
  },
  {
   "cell_type": "code",
   "execution_count": 3,
   "id": "798e9b5c",
   "metadata": {},
   "outputs": [],
   "source": [
    "df = pd.read_excel(r\"C:\\Users\\VivoBook\\OneDrive\\Desktop\\PandasProject\\raw_data.xlsx\")"
   ]
  },
  {
   "cell_type": "markdown",
   "id": "e275aa2c",
   "metadata": {},
   "source": [
    "### dim_comm_type table"
   ]
  },
  {
   "cell_type": "code",
   "execution_count": 4,
   "id": "4315df01",
   "metadata": {},
   "outputs": [],
   "source": [
    "df_comm_type = pd.DataFrame() #Empty DataFrame for comm_type\n",
    "df_comm_type['comm_type'] = df['comm_type'].drop_duplicates()\n",
    "df_comm_type.index += 1 #Later I will use index for comm_type_id so, it should start from 1."
   ]
  },
  {
   "cell_type": "code",
   "execution_count": 5,
   "id": "dc40c56c",
   "metadata": {},
   "outputs": [
    {
     "data": {
      "text/html": [
       "<div>\n",
       "<style scoped>\n",
       "    .dataframe tbody tr th:only-of-type {\n",
       "        vertical-align: middle;\n",
       "    }\n",
       "\n",
       "    .dataframe tbody tr th {\n",
       "        vertical-align: top;\n",
       "    }\n",
       "\n",
       "    .dataframe thead th {\n",
       "        text-align: right;\n",
       "    }\n",
       "</style>\n",
       "<table border=\"1\" class=\"dataframe\">\n",
       "  <thead>\n",
       "    <tr style=\"text-align: right;\">\n",
       "      <th></th>\n",
       "      <th>comm_type</th>\n",
       "      <th>comm_type_id</th>\n",
       "    </tr>\n",
       "  </thead>\n",
       "  <tbody>\n",
       "    <tr>\n",
       "      <th>1</th>\n",
       "      <td>call</td>\n",
       "      <td>1</td>\n",
       "    </tr>\n",
       "    <tr>\n",
       "      <th>3</th>\n",
       "      <td>meeting</td>\n",
       "      <td>3</td>\n",
       "    </tr>\n",
       "  </tbody>\n",
       "</table>\n",
       "</div>"
      ],
      "text/plain": [
       "  comm_type  comm_type_id\n",
       "1      call             1\n",
       "3   meeting             3"
      ]
     },
     "execution_count": 5,
     "metadata": {},
     "output_type": "execute_result"
    }
   ],
   "source": [
    "df_comm_type['comm_type_id'] = df_comm_type.index\n",
    "df_comm_type"
   ]
  },
  {
   "cell_type": "code",
   "execution_count": 6,
   "id": "51d67428",
   "metadata": {},
   "outputs": [],
   "source": [
    "#Exporting to Excel file:\n",
    "with pd.ExcelWriter('final_data.xlsx',engine='openpyxl') as writer:\n",
    "    df_comm_type.to_excel(writer,sheet_name='dim_comm_type',index=False)"
   ]
  },
  {
   "cell_type": "markdown",
   "id": "7def03a2",
   "metadata": {},
   "source": [
    "### Subject table"
   ]
  },
  {
   "cell_type": "code",
   "execution_count": 7,
   "id": "b1128510",
   "metadata": {},
   "outputs": [],
   "source": [
    "df_subject = pd.DataFrame() #Empty DataFrame for subject\n",
    "df_subject['subject'] = df['subject'].drop_duplicates()\n",
    "df_subject.index += 1 \n",
    "df_subject['subject_id'] = df_subject.index"
   ]
  },
  {
   "cell_type": "code",
   "execution_count": 8,
   "id": "f150603e",
   "metadata": {},
   "outputs": [],
   "source": [
    "#Exporting to Excel file:\n",
    "with pd.ExcelWriter('final_data.xlsx',engine='openpyxl',mode='a') as writer:\n",
    "    df_subject.to_excel(writer,sheet_name='dim_subject',index=False)"
   ]
  },
  {
   "cell_type": "markdown",
   "id": "5f8c9fff",
   "metadata": {},
   "source": [
    "### Now, we can work with raw_content, first we need to convert string to json format"
   ]
  },
  {
   "cell_type": "code",
   "execution_count": 9,
   "id": "1f51266f",
   "metadata": {},
   "outputs": [],
   "source": [
    "def extract_all_json_objects(text):\n",
    "    objects = []\n",
    "    decoder = json.JSONDecoder()\n",
    "    idx = 0\n",
    "    while idx < len(text):\n",
    "        try:\n",
    "            obj, next_idx = decoder.raw_decode(text, idx)\n",
    "            objects.append(obj)\n",
    "            idx = next_idx\n",
    "        except json.JSONDecodeError:\n",
    "            break\n",
    "    return objects"
   ]
  },
  {
   "cell_type": "markdown",
   "id": "830fd646",
   "metadata": {},
   "source": [
    "### dim_calendar table"
   ]
  },
  {
   "cell_type": "code",
   "execution_count": 10,
   "id": "a83987ab",
   "metadata": {},
   "outputs": [],
   "source": [
    "df_calendar = pd.DataFrame() #Empty DataFrame for calendar\n",
    "df_calendar['raw_calendar_id'] = df['raw_content'].apply(\n",
    "    lambda x: extract_all_json_objects(x)[0].get('calendar_id') if extract_all_json_objects(x) else None\n",
    ").drop_duplicates()\n",
    "df_calendar.index += 1 \n",
    "df_calendar['calendar_id'] = df_calendar.index"
   ]
  },
  {
   "cell_type": "code",
   "execution_count": 11,
   "id": "26a3a4d1",
   "metadata": {},
   "outputs": [],
   "source": [
    "#Exporting to Excel file:\n",
    "with pd.ExcelWriter('final_data.xlsx',engine='openpyxl',mode='a') as writer:\n",
    "    df_calendar.to_excel(writer,sheet_name='dim_calendar',index=False)"
   ]
  },
  {
   "cell_type": "markdown",
   "id": "36e01273",
   "metadata": {},
   "source": [
    "### dim_audio"
   ]
  },
  {
   "cell_type": "code",
   "execution_count": 12,
   "id": "7c6d0f9f",
   "metadata": {},
   "outputs": [],
   "source": [
    "df_audio = pd.DataFrame() \n",
    "df_audio['raw_audio_url'] = df['raw_content'].apply(\n",
    "    lambda x: extract_all_json_objects(x)[0].get('audio_url') if extract_all_json_objects(x) else None\n",
    ").drop_duplicates()\n",
    "df_audio.index += 1 \n",
    "df_audio['audio_id'] = df_audio.index"
   ]
  },
  {
   "cell_type": "code",
   "execution_count": 13,
   "id": "0ae298f2",
   "metadata": {},
   "outputs": [],
   "source": [
    "#Exporting to Excel file:\n",
    "with pd.ExcelWriter('final_data.xlsx',engine='openpyxl',mode='a') as writer:\n",
    "    df_audio.to_excel(writer,sheet_name='dim_audio',index=False)"
   ]
  },
  {
   "cell_type": "markdown",
   "id": "48ec9edf",
   "metadata": {},
   "source": [
    "### dim_video"
   ]
  },
  {
   "cell_type": "code",
   "execution_count": 14,
   "id": "be8fb0d8",
   "metadata": {},
   "outputs": [],
   "source": [
    "df_video = pd.DataFrame() \n",
    "df_video['raw_video_url'] = df['raw_content'].apply(\n",
    "    lambda x: extract_all_json_objects(x)[0].get('video_url') if extract_all_json_objects(x) else None\n",
    ").drop_duplicates()\n",
    "df_video.dropna(inplace=True)\n",
    "df_video.index += 1 \n",
    "df_video['video_id'] = df_video.index"
   ]
  },
  {
   "cell_type": "code",
   "execution_count": 15,
   "id": "d214409f",
   "metadata": {},
   "outputs": [],
   "source": [
    "#Exporting to Excel file:\n",
    "with pd.ExcelWriter('final_data.xlsx',engine='openpyxl',mode='a') as writer:\n",
    "    df_video.to_excel(writer,sheet_name='dim_video',index=False)"
   ]
  },
  {
   "cell_type": "markdown",
   "id": "db07a833",
   "metadata": {},
   "source": [
    "### dim_transcript"
   ]
  },
  {
   "cell_type": "code",
   "execution_count": 16,
   "id": "0d7fa455",
   "metadata": {},
   "outputs": [],
   "source": [
    "df_transcript = pd.DataFrame() \n",
    "df_transcript['raw_transcript_url'] = df['raw_content'].apply(\n",
    "    lambda x: extract_all_json_objects(x)[0].get('transcript_url') if extract_all_json_objects(x) else None\n",
    ").drop_duplicates()\n",
    "df_transcript.dropna(inplace=True)\n",
    "df_transcript.index += 1 \n",
    "df_transcript['transcript_id'] = df_transcript.index"
   ]
  },
  {
   "cell_type": "code",
   "execution_count": 17,
   "id": "807076a8",
   "metadata": {},
   "outputs": [],
   "source": [
    "#Exporting to Excel file:\n",
    "with pd.ExcelWriter('final_data.xlsx',engine='openpyxl',mode='a') as writer:\n",
    "    df_transcript.to_excel(writer,sheet_name='dim_transcript',index=False)"
   ]
  },
  {
   "cell_type": "markdown",
   "id": "691783b0",
   "metadata": {},
   "source": [
    "### dim_user"
   ]
  },
  {
   "cell_type": "code",
   "execution_count": 18,
   "id": "b49cb3ad",
   "metadata": {},
   "outputs": [],
   "source": [
    "list_attendees = df['raw_content'].apply(\n",
    "    lambda x: extract_all_json_objects(x)[0].get('meeting_attendees') if extract_all_json_objects(x) else None\n",
    ")\n",
    "list_speakers = df['raw_content'].apply(\n",
    "    lambda x: extract_all_json_objects(x)[0].get('speakers') if extract_all_json_objects(x) else None\n",
    ")\n",
    "list_host_email = df['raw_content'].apply(\n",
    "    lambda x: extract_all_json_objects(x)[0].get('host_email') if extract_all_json_objects(x) else None\n",
    ")\n",
    "list_participants = df['raw_content'].apply(\n",
    "    lambda x: extract_all_json_objects(x)[0].get('participants') if extract_all_json_objects(x) else None\n",
    ")\n",
    "list_organizer_email = df['raw_content'].apply(\n",
    "    lambda x: extract_all_json_objects(x)[0].get('organizer_email') if extract_all_json_objects(x) else None\n",
    ")\n",
    "list_meeting_id = df['raw_content'].apply(\n",
    "    lambda x: extract_all_json_objects(x)[0].get('id') if extract_all_json_objects(x) else None\n",
    ")\n",
    "list_comm_id = df['id']"
   ]
  },
  {
   "cell_type": "code",
   "execution_count": 19,
   "id": "1f28829e",
   "metadata": {},
   "outputs": [],
   "source": [
    "rows = []\n",
    "\n",
    "for i in range(len(list_comm_id)):\n",
    "    attendees_list = list_attendees[i] or []\n",
    "    speakers_list = list_speakers[i] or []\n",
    "    host = list_host_email[i]\n",
    "    participants_list = list_participants[i] or []\n",
    "    organiser = list_organizer_email[i] \n",
    "    comm_id = list_comm_id[i]   \n",
    "\n",
    "    users_emails = set()\n",
    "    added_names = set()\n",
    "\n",
    "    for participant_email in participants_list:\n",
    "        \n",
    "        participant_email = participant_email.lower()\n",
    "        matched = False\n",
    "        \n",
    "        for speaker in speakers_list:\n",
    "            \n",
    "            speaker_name = speaker.get('name', '').strip().lower()\n",
    "            speaker_parts = speaker_name.split()\n",
    "\n",
    "            first_name = speaker_parts[0] if speaker_parts else ''\n",
    "            last_name = speaker_parts[-1] if len(speaker_parts) > 1 else ''\n",
    "            \n",
    "            patterns = [\n",
    "                first_name,\n",
    "                last_name,\n",
    "                f\"{first_name}.{last_name}\",\n",
    "                f\"{first_name}_{last_name}\",\n",
    "                f\"{last_name}.{first_name}\",\n",
    "                f\"{first_name}{last_name}\",\n",
    "                f\"{last_name}{first_name}\"\n",
    "            ]\n",
    "            \n",
    "            if any(p in participant_email for p in patterns if p):\n",
    "                rows.append({\n",
    "                    'user_id': str(uuid.uuid5(uuid.NAMESPACE_DNS, participant_email)),\n",
    "                    'name': speaker.get('name'),\n",
    "                    'email': participant_email,\n",
    "                    'location': None,\n",
    "                    'displayName': None,\n",
    "                    'phoneNumber': None,\n",
    "                    'comm_id': comm_id\n",
    "                })\n",
    "                matched = True\n",
    "                added_names.add(speaker_name)\n",
    "                break\n",
    "        \n",
    "        if not matched:\n",
    "            rows.append({\n",
    "                'user_id': str(uuid.uuid5(uuid.NAMESPACE_DNS, participant_email)),\n",
    "                'name': None,\n",
    "                'email': participant_email,\n",
    "                'location': None,\n",
    "                'displayName': None,\n",
    "                'phoneNumber': None,\n",
    "                'comm_id': comm_id\n",
    "            })\n",
    "        \n",
    "        users_emails.add(participant_email)\n",
    "\n",
    "    for attendee in attendees_list:\n",
    "        \n",
    "        email = attendee.get('email', '').lower()\n",
    "        \n",
    "        if email and email not in users_emails:\n",
    "            rows.append({\n",
    "                'user_id': str(uuid.uuid5(uuid.NAMESPACE_DNS, email)),\n",
    "                'name': attendee.get('name'),\n",
    "                'email': email,\n",
    "                'location': attendee.get('location'),\n",
    "                'displayName': attendee.get('displayName'),\n",
    "                'phoneNumber': attendee.get('phoneNumber'),\n",
    "                'comm_id': comm_id\n",
    "            })\n",
    "            users_emails.add(email)\n",
    "            if attendee.get('name'):\n",
    "                added_names.add(attendee.get('name').lower())\n",
    "\n",
    "    for speaker in speakers_list:\n",
    "        \n",
    "        speaker_name = speaker.get('name', '').strip()\n",
    "        \n",
    "        if speaker_name and speaker_name.lower() not in added_names:\n",
    "            rows.append({\n",
    "                'user_id': str(uuid.uuid4()),\n",
    "                'name': speaker_name,\n",
    "                'email': None,\n",
    "                'location': None,\n",
    "                'displayName': None,\n",
    "                'phoneNumber': None,\n",
    "                'comm_id': comm_id\n",
    "            })\n",
    "            added_names.add(speaker_name.lower())\n",
    "\n",
    "\n",
    "    # Organisers\n",
    "    if organiser:\n",
    "        if organiser not in users_emails:\n",
    "            rows.append({\n",
    "                    'user_id': str(uuid.uuid5(uuid.NAMESPACE_DNS, organiser)) if organiser else str(uuid.uuid4()),\n",
    "                    'name': None,\n",
    "                    'email': organiser,\n",
    "                    'location': None,\n",
    "                    'displayName': None,\n",
    "                    'phoneNumber': None,\n",
    "                    'comm_id': comm_id\n",
    "                })\n",
    "            users_emails.add(organiser)\n",
    "\n",
    "    # Hosts\n",
    "    if host:\n",
    "        if host not in users_emails:\n",
    "            rows.append({\n",
    "                    'user_id': str(uuid.uuid5(uuid.NAMESPACE_DNS, host)) if host else str(uuid.uuid4()),\n",
    "                    'name': None,\n",
    "                    'email': host,\n",
    "                    'location': None,\n",
    "                    'displayName': None,\n",
    "                    'phoneNumber': None,\n",
    "                    'comm_id': comm_id\n",
    "                })\n",
    "            users_emails.add(host)\n",
    "                   \n",
    "df_user = pd.DataFrame(rows)\n",
    "df_user.drop_duplicates(inplace=True)"
   ]
  },
  {
   "cell_type": "code",
   "execution_count": 20,
   "id": "cce541fb",
   "metadata": {},
   "outputs": [],
   "source": [
    "#Exporting to Excel file:\n",
    "with pd.ExcelWriter('final_data.xlsx',engine='openpyxl',mode='a') as writer:\n",
    "    df_user[['user_id','name','email','location','displayName','phoneNumber']].to_excel(writer,sheet_name='dim_user',index=False)"
   ]
  },
  {
   "cell_type": "markdown",
   "id": "079ec62f",
   "metadata": {},
   "source": [
    "### bridge_comm_user"
   ]
  },
  {
   "cell_type": "code",
   "execution_count": 21,
   "id": "3fc0643b",
   "metadata": {},
   "outputs": [],
   "source": [
    "comm_user = []\n",
    "\n",
    "for i in range(len(list_comm_id)):\n",
    "    comm_id = list_comm_id[i]\n",
    "    attendees = list_attendees[i] or []\n",
    "    participants = list_participants[i] or []\n",
    "    organiser = list_organizer_email[i].lower()\n",
    "    host = list_host_email[i].lower()\n",
    "    speakers = list_speakers[i] or []\n",
    "\n",
    "    attendee_emails = [att.get('email', '').lower() for att in attendees if att.get('email')]\n",
    "    participant_emails = [p.lower() for p in participants if p]\n",
    "    speaker_names = [spk.get('name', '').lower() for spk in speakers if spk.get('name')]\n",
    "\n",
    "    for j in range(len(df_user)):\n",
    "        \n",
    "        user_row = df_user.iloc[j]\n",
    "        \n",
    "        if user_row['comm_id'] != comm_id:\n",
    "            continue  # Only process users for this comm_id\n",
    "\n",
    "        email = user_row['email']\n",
    "        name = user_row['name']\n",
    "                \n",
    "        isAttendee = email.lower() in attendee_emails if email else False\n",
    "        isParticipant = email.lower() in participant_emails if email else False\n",
    "        isOrganiser = email.lower() == organiser if email else False\n",
    "        isHost = email.lower() == host if email else False\n",
    "        isSpeaker = name.lower() in speaker_names if name else False\n",
    "\n",
    "\n",
    "        comm_user.append({\n",
    "            'comm_id': comm_id,\n",
    "            'user_id': user_row['user_id'],\n",
    "            'isAttendee': isAttendee,\n",
    "            'isParticipant': isParticipant,\n",
    "            'isSpeaker' : isSpeaker,\n",
    "            'isOrganiser': isOrganiser,\n",
    "            'isHost' : isHost\n",
    "        })\n",
    "\n",
    "df_comm_user = pd.DataFrame(comm_user)\n",
    "df_comm_user.drop_duplicates(inplace=True)"
   ]
  },
  {
   "cell_type": "code",
   "execution_count": 22,
   "id": "5a0c8c10",
   "metadata": {},
   "outputs": [],
   "source": [
    "#Exporting to Excel file:\n",
    "with pd.ExcelWriter('final_data.xlsx',engine='openpyxl',mode='a') as writer:\n",
    "    df_comm_user.to_excel(writer,sheet_name='bridge_comm_user',index=False)"
   ]
  },
  {
   "cell_type": "markdown",
   "id": "5df84350",
   "metadata": {},
   "source": [
    "## fact_communication"
   ]
  },
  {
   "cell_type": "code",
   "execution_count": 23,
   "id": "7d69ac0b",
   "metadata": {},
   "outputs": [],
   "source": [
    "list_comm_id = df['id']\n",
    "list_raw_id = df['raw_content'].apply(\n",
    "    lambda x: extract_all_json_objects(x)[0].get('id') if extract_all_json_objects(x) else None)"
   ]
  },
  {
   "cell_type": "code",
   "execution_count": 24,
   "id": "2c686630",
   "metadata": {},
   "outputs": [
    {
     "data": {
      "text/html": [
       "<div>\n",
       "<style scoped>\n",
       "    .dataframe tbody tr th:only-of-type {\n",
       "        vertical-align: middle;\n",
       "    }\n",
       "\n",
       "    .dataframe tbody tr th {\n",
       "        vertical-align: top;\n",
       "    }\n",
       "\n",
       "    .dataframe thead th {\n",
       "        text-align: right;\n",
       "    }\n",
       "</style>\n",
       "<table border=\"1\" class=\"dataframe\">\n",
       "  <thead>\n",
       "    <tr style=\"text-align: right;\">\n",
       "      <th></th>\n",
       "      <th>id</th>\n",
       "      <th>comm_type</th>\n",
       "      <th>raw_content</th>\n",
       "      <th>source_id</th>\n",
       "      <th>ingested_at</th>\n",
       "      <th>processed_at</th>\n",
       "      <th>is_processed</th>\n",
       "      <th>subject</th>\n",
       "    </tr>\n",
       "  </thead>\n",
       "  <tbody>\n",
       "    <tr>\n",
       "      <th>0</th>\n",
       "      <td>de819d74-9b7d-4b60-863c-5f7f634a6402</td>\n",
       "      <td>call</td>\n",
       "      <td>{\"id\": \"DDCD444CF2A04CA1BA108EE5\", \"title\": \"U...</td>\n",
       "      <td>32A19D011A4C41F09FE3A2FB</td>\n",
       "      <td>2025-06-12T13:29:09</td>\n",
       "      <td>2025-03-22T11:37:50</td>\n",
       "      <td>True</td>\n",
       "      <td>Profit-focused composite time-frame</td>\n",
       "    </tr>\n",
       "    <tr>\n",
       "      <th>1</th>\n",
       "      <td>d4746716-3350-4e7f-952f-b39a8dc430d3</td>\n",
       "      <td>call</td>\n",
       "      <td>{\"id\": \"E462A7000DCA4A688FB880B3\", \"title\": \"E...</td>\n",
       "      <td>485F87C4F6E34F3189D1E3E9</td>\n",
       "      <td>2025-03-11T19:29:43</td>\n",
       "      <td>2025-03-06T01:09:40</td>\n",
       "      <td>True</td>\n",
       "      <td>Ergonomic dedicated process improvement</td>\n",
       "    </tr>\n",
       "  </tbody>\n",
       "</table>\n",
       "</div>"
      ],
      "text/plain": [
       "                                     id comm_type  \\\n",
       "0  de819d74-9b7d-4b60-863c-5f7f634a6402      call   \n",
       "1  d4746716-3350-4e7f-952f-b39a8dc430d3      call   \n",
       "\n",
       "                                         raw_content  \\\n",
       "0  {\"id\": \"DDCD444CF2A04CA1BA108EE5\", \"title\": \"U...   \n",
       "1  {\"id\": \"E462A7000DCA4A688FB880B3\", \"title\": \"E...   \n",
       "\n",
       "                  source_id          ingested_at         processed_at  \\\n",
       "0  32A19D011A4C41F09FE3A2FB  2025-06-12T13:29:09  2025-03-22T11:37:50   \n",
       "1  485F87C4F6E34F3189D1E3E9  2025-03-11T19:29:43  2025-03-06T01:09:40   \n",
       "\n",
       "   is_processed                                  subject  \n",
       "0          True      Profit-focused composite time-frame  \n",
       "1          True  Ergonomic dedicated process improvement  "
      ]
     },
     "execution_count": 24,
     "metadata": {},
     "output_type": "execute_result"
    }
   ],
   "source": [
    "df.head(2)"
   ]
  },
  {
   "cell_type": "code",
   "execution_count": 25,
   "id": "dc4ade84",
   "metadata": {},
   "outputs": [],
   "source": [
    "# fact = []\n",
    "\n",
    "# for i, comm_id in enumerate(list_comm_id):\n",
    "#     fact.append({\n",
    "#         'comm_id' : comm_id,\n",
    "#         'raw_id' : \n",
    "#     })\n",
    "    \n",
    "    "
   ]
  },
  {
   "cell_type": "code",
   "execution_count": null,
   "id": "3bc9c768",
   "metadata": {},
   "outputs": [],
   "source": []
  }
 ],
 "metadata": {
  "kernelspec": {
   "display_name": "Python 3",
   "language": "python",
   "name": "python3"
  },
  "language_info": {
   "codemirror_mode": {
    "name": "ipython",
    "version": 3
   },
   "file_extension": ".py",
   "mimetype": "text/x-python",
   "name": "python",
   "nbconvert_exporter": "python",
   "pygments_lexer": "ipython3",
   "version": "3.13.3"
  }
 },
 "nbformat": 4,
 "nbformat_minor": 5
}
